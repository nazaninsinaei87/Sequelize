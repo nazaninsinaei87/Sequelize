{
 "cells": [
  {
   "cell_type": "code",
   "execution_count": 1,
   "metadata": {
    "collapsed": true
   },
   "outputs": [],
   "source": [
    "#import dependencies\n",
    "import pandas as pd"
   ]
  },
  {
   "cell_type": "code",
   "execution_count": 15,
   "metadata": {
    "collapsed": true
   },
   "outputs": [],
   "source": [
    "#import csv files into dataframe\n",
    "hawaii_measurements = pd.read_csv(\"Resources/hawaii_measurements.csv\")\n",
    "hawaii_stations = pd.read_csv(\"Resources/hawaii_stations.csv\")"
   ]
  },
  {
   "cell_type": "code",
   "execution_count": 25,
   "metadata": {},
   "outputs": [],
   "source": [
    "#Fill NANs in prcp in hawaii measurements table with mean of prcp values\n",
    "hawaii_measurements.prcp.fillna(hawaii_measurements.prcp.mean(), inplace=True)\n",
    "#Save the data into a clean csv file\n",
    "hawaii_measurements.to_csv(\"clean_hawaii_measurements.csv\", index=False)\n",
    "hawaii_stations.to_csv(\"clean_hawaii_stations.csv\", index=False)"
   ]
  }
 ],
 "metadata": {
  "kernelspec": {
   "display_name": "Python [conda env:PythonData]",
   "language": "python",
   "name": "conda-env-PythonData-py"
  },
  "language_info": {
   "codemirror_mode": {
    "name": "ipython",
    "version": 3
   },
   "file_extension": ".py",
   "mimetype": "text/x-python",
   "name": "python",
   "nbconvert_exporter": "python",
   "pygments_lexer": "ipython3",
   "version": "3.6.3"
  }
 },
 "nbformat": 4,
 "nbformat_minor": 2
}
